{
  "nbformat": 4,
  "nbformat_minor": 0,
  "metadata": {
    "colab": {
      "name": "Assignment12.ipynb",
      "provenance": [],
      "authorship_tag": "ABX9TyNj1aokUBun9v13d5nIDgLO",
      "include_colab_link": true
    },
    "kernelspec": {
      "name": "python3",
      "display_name": "Python 3"
    }
  },
  "cells": [
    {
      "cell_type": "markdown",
      "metadata": {
        "id": "view-in-github",
        "colab_type": "text"
      },
      "source": [
        "<a href=\"https://colab.research.google.com/github/1101148889/MyrepositoryPy/blob/main/Assignment12.ipynb\" target=\"_parent\"><img src=\"https://colab.research.google.com/assets/colab-badge.svg\" alt=\"Open In Colab\"/></a>"
      ]
    },
    {
      "cell_type": "code",
      "metadata": {
        "id": "NVvY8S4k-gD7"
      },
      "source": [
        "import numpy as np"
      ],
      "execution_count": 1,
      "outputs": []
    },
    {
      "cell_type": "code",
      "metadata": {
        "id": "Kssc9UjI_fPJ"
      },
      "source": [
        "def ploss(d,f):\r\n",
        "  pldb=-23.85 + (20*np.log10(d)) + (20*np.log10(f))\r\n",
        "  plnum=LtN(-pldb)\r\n",
        "  return pldb,plnum"
      ],
      "execution_count": 9,
      "outputs": []
    },
    {
      "cell_type": "code",
      "metadata": {
        "id": "aYG71I1i_rL2"
      },
      "source": [
        "def lp(d,fc,hr,ht,area):\r\n",
        "\r\n",
        "\r\n",
        "\r\n",
        "  #C1 & C2 value\r\n",
        "  if fc in range (600,1700):\r\n",
        "    C1 = 75.55\r\n",
        "    C2 = 89.16\r\n",
        "  elif fc in range (1711,3000):\r\n",
        "    C1 = 66.6\r\n",
        "    C2 = 93.4\r\n",
        "\r\n",
        "  \r\n",
        "  if area == 1:\r\n",
        "    Cm = 0\r\n",
        "  elif area == 2:\r\n",
        "    Cm = (-2*(np.log10(fc/28))**2) - 5.4\r\n",
        "  elif area == 3:\r\n",
        "    Cm = (-4.78*(np.log10(fc))**2) + (18.33*np.log10(fc)) - 40.94\r\n",
        "\r\n",
        "  #Calculating ahr value\r\n",
        "  ahr = ((1.1*np.log10(fc)-0.7)*hr)-((1.56*np.log10(fc))-0.8) \r\n",
        "  \r\n",
        "  #Calculating LP value\r\n",
        "  Lp = C1 + (C2*np.log10(fc)) - (13.83*np.log10(ht)) - ahr + ((44.9-(6.55*np.log10(ht)))*np.log10(d)) + Cm\r\n",
        "\r\n",
        "  return Lp"
      ],
      "execution_count": 10,
      "outputs": []
    },
    {
      "cell_type": "code",
      "metadata": {
        "colab": {
          "base_uri": "https://localhost:8080/"
        },
        "id": "PfBVlobL_z14",
        "outputId": "c24c0abb-89c8-4da1-da0a-806aa7754b14"
      },
      "source": [
        "Lpval = lp(8,1520,15,120,3)\r\n",
        "print(\"Final Result is \",Lpval, \"dB\")"
      ],
      "execution_count": 12,
      "outputs": [
        {
          "output_type": "stream",
          "text": [
            "Final Result is  289.89109819552584 dB\n"
          ],
          "name": "stdout"
        }
      ]
    }
  ]
}